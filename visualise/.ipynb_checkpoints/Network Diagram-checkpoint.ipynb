{
 "cells": [
  {
   "cell_type": "markdown",
   "id": "a059caca-68ea-4395-90c9-897b3f10a513",
   "metadata": {},
   "source": [
    "# WiFi Network Visualisation\n",
    "This notebook is designed to take in a collecton of node JSON files as static input, and then draw a network diagram."
   ]
  },
  {
   "cell_type": "code",
   "execution_count": 1,
   "id": "44d1e801-a899-4482-9694-4ce83c716579",
   "metadata": {},
   "outputs": [],
   "source": [
    "# Imports and Declarations."
   ]
  },
  {
   "cell_type": "code",
   "execution_count": null,
   "id": "48565319-11eb-4860-8f66-d61744012fcf",
   "metadata": {},
   "outputs": [],
   "source": [
    "# Load a sample data model.  This is used to test out the graph model.\n"
   ]
  },
  {
   "cell_type": "code",
   "execution_count": null,
   "id": "836d5be2-b710-412a-a98d-c2adffd009e5",
   "metadata": {},
   "outputs": [],
   "source": [
    "# Display the model."
   ]
  }
 ],
 "metadata": {
  "kernelspec": {
   "display_name": "Python 3 (ipykernel)",
   "language": "python",
   "name": "python3"
  },
  "language_info": {
   "codemirror_mode": {
    "name": "ipython",
    "version": 3
   },
   "file_extension": ".py",
   "mimetype": "text/x-python",
   "name": "python",
   "nbconvert_exporter": "python",
   "pygments_lexer": "ipython3",
   "version": "3.8.13"
  }
 },
 "nbformat": 4,
 "nbformat_minor": 5
}
